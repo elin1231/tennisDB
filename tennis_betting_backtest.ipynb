{
 "cells": [
  {
   "cell_type": "code",
   "execution_count": 9,
   "metadata": {},
   "outputs": [],
   "source": [
    "import streamlit as st\n",
    "import plotly.graph_objects as go\n",
    "import utility\n",
    "import pandas as pd \n",
    "import numpy as np\n",
    "import os\n",
    "from utility import *"
   ]
  },
  {
   "cell_type": "code",
   "execution_count": 10,
   "metadata": {},
   "outputs": [],
   "source": [
    "YEARS = list(range(2018, 2025))"
   ]
  },
  {
   "cell_type": "code",
   "execution_count": 11,
   "metadata": {},
   "outputs": [
    {
     "name": "stdout",
     "output_type": "stream",
     "text": [
      "File already exists, skipping: betting_data/2018.xlsx\n",
      "File already exists, skipping: betting_data/2019.xlsx\n",
      "File already exists, skipping: betting_data/2020.xlsx\n",
      "File already exists, skipping: betting_data/2021.xlsx\n",
      "File already exists, skipping: betting_data/2022.xlsx\n",
      "File already exists, skipping: betting_data/2023.xlsx\n",
      "File already exists, skipping: betting_data/2024.xlsx\n"
     ]
    }
   ],
   "source": [
    "utility.retrieve_betting_data(YEARS) "
   ]
  },
  {
   "cell_type": "code",
   "execution_count": 12,
   "metadata": {},
   "outputs": [
    {
     "name": "stdout",
     "output_type": "stream",
     "text": [
      "Model Accuracy: 0.72\n",
      "       Predicted  Actual  Win_Probability\n",
      "18329          0       0         0.449044\n",
      "18343          0       0         0.430106\n",
      "18694          1       0         0.535323\n",
      "1624           1       1         0.589263\n",
      "18276          1       0         0.559882\n"
     ]
    }
   ],
   "source": [
    "data = utility.load_data_for_years(YEARS)\n",
    "data = preprocess_data(data)\n",
    "X, y = feature_engineering(data)\n",
    "model, X_test, y_test = train_model(X, y)\n",
    "results = predict_outcomes(model, X_test, y_test)\n",
    "print(results.head())"
   ]
  },
  {
   "cell_type": "markdown",
   "metadata": {},
   "source": []
  },
  {
   "cell_type": "code",
   "execution_count": null,
   "metadata": {},
   "outputs": [],
   "source": []
  }
 ],
 "metadata": {
  "kernelspec": {
   "display_name": "mesirow",
   "language": "python",
   "name": "python3"
  },
  "language_info": {
   "codemirror_mode": {
    "name": "ipython",
    "version": 3
   },
   "file_extension": ".py",
   "mimetype": "text/x-python",
   "name": "python",
   "nbconvert_exporter": "python",
   "pygments_lexer": "ipython3",
   "version": "3.12.8"
  }
 },
 "nbformat": 4,
 "nbformat_minor": 2
}
