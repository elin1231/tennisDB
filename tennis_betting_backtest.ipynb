{
 "cells": [
  {
   "cell_type": "code",
   "execution_count": 1,
   "metadata": {},
   "outputs": [],
   "source": [
    "import streamlit as st\n",
    "import pandas as pd \n",
    "import numpy as np\n",
    "from utility import *\n",
    "import matplotlib.pyplot as plt\n",
    "import warnings\n",
    "warnings.filterwarnings('ignore')\n",
    "%matplotlib inline"
   ]
  },
  {
   "cell_type": "code",
   "execution_count": 2,
   "metadata": {},
   "outputs": [],
   "source": [
    "YEARS = list(range(2000, 2025))"
   ]
  },
  {
   "cell_type": "markdown",
   "metadata": {},
   "source": [
    "### Proposed Strategy\n",
    "I want to see how value betting can be leveraged to gain a long-term edge over the bookmaker. We will explore different models that could help us evaluate what the odds truly are later. This is the basis of value betting and here’s a brief explanation of how it works:\n",
    "\n",
    "\n",
    "##### How It Works\n",
    "\n",
    "1. **Calculate True Probability**: Use data or models to estimate the actual likelihood of an event.  \n",
    "   Example: If a tennis player has a 60% chance of winning, the **true odds** are:\n",
    "   $$\n",
    "   \\text{True Odds} = \\frac{1}{0.6} = 1.67\n",
    "   $$\n",
    "\n",
    "2. **Compare with Bookmaker Odds**: If the bookmaker offers odds of 2.00, the bet has value:\n",
    "   $$\n",
    "   \\text{Value} = 0.6 \\times 2.00 = 1.2\n",
    "   $$\n",
    "\n",
    "   Since the value is greater than 1, it’s a profitable bet.\n",
    "\n",
    "##### How Do Odds Work?\n",
    "\n",
    "Odds represent the likelihood of an event and determine how much you can win on a bet. They can be expressed as **decimal**, **fractional**, or **moneyline** odds.\n",
    "\n",
    "##### Example:\n",
    "- Decimal odds of **2.50** mean you win $2.50 for every $1 bet (including your stake).\n",
    "- If you bet $10 on odds of 2.50, your total return is:\n",
    "  $$\n",
    "  \\text{Return} = 10 \\times 2.50 = 25\n",
    "  $$\n",
    "  Your profit is $15 ($25 - $10 stake).\n",
    "\n"
   ]
  },
  {
   "cell_type": "markdown",
   "metadata": {},
   "source": [
    "### Evaluating bookmarker's success rate:"
   ]
  },
  {
   "cell_type": "code",
   "execution_count": null,
   "metadata": {},
   "outputs": [],
   "source": [
    "def evaluate_bookmaker_accuracy(df, bookmaker_prefix):\n",
    "    odds_winner_col = bookmaker_prefix + 'W'\n",
    "    odds_loser_col = bookmaker_prefix + 'L'\n",
    "    mask_valid = (\n",
    "        df[odds_winner_col].notnull() & \n",
    "        df[odds_loser_col].notnull() & \n",
    "        (df[odds_winner_col] > 0) & \n",
    "        (df[odds_loser_col] > 0)\n",
    "    )\n",
    "    valid_df = df[mask_valid].copy()\n",
    "    valid_df[\"bookmaker_favorite_is_dataset_winner\"] = (\n",
    "        valid_df[odds_winner_col] < valid_df[odds_loser_col]\n",
    "    )\n",
    "    accuracy = valid_df[\"bookmaker_favorite_is_dataset_winner\"].mean()\n",
    "    return accuracy\n",
    "\n",
    "df = pd.read_excel(\"betting_data/2018.xlsx\")\n",
    "bookmakers = [\"B365\", \"EX\", \"LB\", \"PS\"]\n",
    "bookmakers_abbrev_to_full = {\"B365\": \"Bet365\", \"EX\": \"Expekt\", \"LB\": \"Ladbrokes\", \"PS\": \"Pinnacle Sports\"}\n",
    "results = {}\n",
    "\n",
    "for bm in bookmakers:\n",
    "    acc = evaluate_bookmaker_accuracy(df, bm)\n",
    "    results[bm] = acc\n",
    "for bm in bookmakers:\n",
    "    print(f\"{bookmakers_abbrev_to_full[bm]}: {results[bm]:.2%}\")"
   ]
  },
  {
   "cell_type": "markdown",
   "metadata": {},
   "source": [
    "### Looking into naive betting Strategies:\n",
    "1. Random betting (coin flip, heads to favorite, tails to underdog)\n",
    "2. Bet with player with higher bookmaker's odds\n",
    "3. Bet player with higher ranking"
   ]
  },
  {
   "cell_type": "code",
   "execution_count": null,
   "metadata": {},
   "outputs": [],
   "source": [
    "def plot_betting_strategies(df):\n",
    "    plt.figure(figsize=(12, 6))\n",
    "    plt.plot(df['Date'], df['Cumulative_Random'], label='Random Betting')\n",
    "    plt.plot(df['Date'], df['Cumulative_HigherOdds'], label='Higher Odds Betting')\n",
    "    plt.plot(df['Date'], df['Cumulative_HigherRank'], label='Higher Rank Betting')\n",
    "    plt.title('Cumulative Returns for Betting Strategies')\n",
    "    plt.xlabel('Date')\n",
    "    plt.ylabel('Cumulative Returns ($)')\n",
    "    plt.legend()\n",
    "    plt.grid(True)\n",
    "    plt.tight_layout()\n",
    "    plt.show()\n",
    "\n",
    "file_path = 'betting_data/2023.xlsx'\n",
    "df = calculate_betting_strategies(file_path, initial_cash=1000)\n",
    "plot_betting_strategies(df)\n"
   ]
  },
  {
   "cell_type": "markdown",
   "metadata": {},
   "source": [
    "Create database for better data organization:\n",
    "Tables:\n",
    "1. Players: id, (player overall stats), matches \n",
    "2. Player_Historical_Performance\n",
    "3. "
   ]
  },
  {
   "cell_type": "code",
   "execution_count": null,
   "metadata": {},
   "outputs": [],
   "source": [
    "matched_df = match_abbreviated_name_with_atp_ids()"
   ]
  },
  {
   "cell_type": "code",
   "execution_count": null,
   "metadata": {},
   "outputs": [],
   "source": [
    "matched_df.head()"
   ]
  },
  {
   "cell_type": "code",
   "execution_count": null,
   "metadata": {},
   "outputs": [],
   "source": [
    "betting_name_to_atp_id = dict(zip(matched_df['betting_name'], matched_df['atp_player_id']))\n",
    "print(betting_name_to_atp_id)"
   ]
  },
  {
   "cell_type": "code",
   "execution_count": 13,
   "metadata": {},
   "outputs": [],
   "source": [
    "test_df = pd.read_excel(\"betting_data/2024.xlsx\")\n",
    "test_df['winner_atp_id'] = test_df['Winner'].map(betting_name_to_atp_id)\n",
    "test_df['loser_atp_id'] = test_df['Loser'].map(betting_name_to_atp_id)"
   ]
  },
  {
   "cell_type": "code",
   "execution_count": null,
   "metadata": {},
   "outputs": [],
   "source": [
    "test_df.head()"
   ]
  },
  {
   "cell_type": "code",
   "execution_count": null,
   "metadata": {},
   "outputs": [],
   "source": [
    "nan_counts = test_df.isna().sum()\n",
    "print(nan_counts)"
   ]
  },
  {
   "cell_type": "code",
   "execution_count": null,
   "metadata": {},
   "outputs": [],
   "source": []
  }
 ],
 "metadata": {
  "kernelspec": {
   "display_name": "mesirow",
   "language": "python",
   "name": "python3"
  },
  "language_info": {
   "codemirror_mode": {
    "name": "ipython",
    "version": 3
   },
   "file_extension": ".py",
   "mimetype": "text/x-python",
   "name": "python",
   "nbconvert_exporter": "python",
   "pygments_lexer": "ipython3",
   "version": "3.12.8"
  }
 },
 "nbformat": 4,
 "nbformat_minor": 2
}
